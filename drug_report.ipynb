{
 "cells": [
  {
   "cell_type": "code",
   "execution_count": 1,
   "id": "db2b7052",
   "metadata": {},
   "outputs": [],
   "source": [
    "from py2neo import Graph \n",
    "import pandas as pd\n",
    "from collections import defaultdict\n",
    "import json"
   ]
  },
  {
   "cell_type": "code",
   "execution_count": 21,
   "id": "4ec957cf",
   "metadata": {},
   "outputs": [],
   "source": [
    "class neo4jUtil:\n",
    "    def __init__(self):\n",
    "        self.driver = Graph(\"neo4j://172.16.227.27:7687\", auth=(\"neo4j\", \"123456\"))\n",
    "\n",
    "    def run_cypher(self, cypher):\n",
    "        result_list = self.driver.run(cypher).data()\n",
    "        return result_list\n",
    "    \n",
    "n_util = neo4jUtil()"
   ]
  },
  {
   "cell_type": "code",
   "execution_count": 73,
   "id": "e98c651d",
   "metadata": {},
   "outputs": [],
   "source": [
    "df_warning = pd.read_csv(\"processed/fda_warning_with_chemical.csv\")[[\"match_chemical_list\", \"link\"]]\n",
    "df_warning = df_warning[~df_warning['match_chemical_list'].isnull()]\n",
    "warning_dict = defaultdict(list)\n",
    "\n",
    "for index, row in df_warning.iterrows():\n",
    "    chem = row[\"match_chemical_list\"]\n",
    "    link = row[\"link\"]\n",
    "    warning_dict[chem].append(link)\n"
   ]
  },
  {
   "cell_type": "code",
   "execution_count": 6,
   "id": "961b4ef5",
   "metadata": {},
   "outputs": [],
   "source": [
    "df_drug = pd.DataFrame({\"drug\": list(set(pd.read_csv(\"drug_report/report_chemicals.csv\")[\"Drug\"].values))})"
   ]
  },
  {
   "cell_type": "code",
   "execution_count": 15,
   "id": "2113d765",
   "metadata": {},
   "outputs": [],
   "source": [
    "df_translation = pd.read_csv(\"processed/chemical_translation.csv\", dtype=str).fillna(\"\")\n",
    "df_translation[\"chemical_name\"] = df_translation[\"chemical_name\"].str.strip().str.lower() \n",
    "df_translation[\"cn_chemical_name\"] = df_translation[\"cn_chemical_name\"].str.strip().str.lower()\n",
    "\n",
    "df_drug = pd.merge(df_drug, df_translation, how=\"left\", left_on=[\"drug\"], \n",
    "                   right_on=[\"chemical_name\"])[[\"chemical_name\", \"cn_chemical_name\"]].fillna(\"\")\n",
    "\n"
   ]
  },
  {
   "cell_type": "code",
   "execution_count": 45,
   "id": "5adb9523",
   "metadata": {},
   "outputs": [],
   "source": [
    "def get_pc_label(chemical_name):\n",
    "    # phenotype category label\n",
    "    query_template = \"\"\"\n",
    "    match (m:chemical {{chemical_name: \"{chem_name}\"}})<-[r:clinical_annotation]-()\n",
    "    return distinct r.phenotype_category as phenotype_category\n",
    "    union\n",
    "    match (m:chemical {{chemical_name: \"{chem_name}\"}})<-[r:research_annotation]-()\n",
    "    return distinct r.phenotype_category as phenotype_category\n",
    "    \"\"\".format(chem_name=chemical_name)\n",
    "    result = n_util.run_cypher(query_template)\n",
    "\n",
    "    toxicity_flag = False\n",
    "    efficacy_flag = False\n",
    "    dosage_flag = False\n",
    "    metabolism_flag = False\n",
    "    # label_code pc_toxicity, pc_efficacy, pc_dosage, pc_metabolism\n",
    "    for x in [res[\"phenotype_category\"].lower() for res in result]:\n",
    "        if \"toxicity\" in x:\n",
    "            toxicity_flag = True\n",
    "        if \"efficacy\" in x:\n",
    "            efficacy_flag = True\n",
    "        if \"dosage\" in x:\n",
    "            dosage_flag = True\n",
    "        if \"metabolism\" in x:\n",
    "            metabolism_flag = True\n",
    "    return [toxicity_flag, efficacy_flag, dosage_flag, metabolism_flag]"
   ]
  },
  {
   "cell_type": "code",
   "execution_count": 50,
   "id": "40a01ead",
   "metadata": {},
   "outputs": [],
   "source": [
    "def get_cn_drug_label(chemical_name):\n",
    "    # cn_drug_label\n",
    "    query_template = \"\"\"\n",
    "    match (m:chemical {{chemical_name: \"{chem_name}\"}})<-[r:cn_drug_label]-(ge:gene)\n",
    "    return m.chemical_name as chemical_name, ge.gene_name as gene_name, r.remark as remark\n",
    "    \"\"\".format(chem_name=chemical_name)\n",
    "    result = n_util.run_cypher(query_template)\n",
    "\n",
    "    cn_drug_label_flag = False\n",
    "    genes = \"\"\n",
    "    if len(result) > 0:\n",
    "        cn_drug_label_flag = True\n",
    "        genes = \",\".join([x[\"gene_name\"] for x in result])\n",
    "        \n",
    "    return [cn_drug_label_flag, genes]"
   ]
  },
  {
   "cell_type": "code",
   "execution_count": 78,
   "id": "fc8bf086",
   "metadata": {},
   "outputs": [],
   "source": [
    "def fda_warning_insurance_label(chemical_name):\n",
    "    # FDA warning and medical_insurance\n",
    "    warning_link = \"\"\n",
    "    fda_warning_flag = False\n",
    "    \n",
    "    if chemical_name in warning_dict.keys():\n",
    "        fda_warning_flag = True\n",
    "        warning_link = \" | \".join(warning_dict[chemical_name])\n",
    "\n",
    "    query_template = \"\"\"\n",
    "    match (m:chemical {{chemical_name: \"{chem_name}\"}})-[r:chemical_drug_relation]->(n:drug)\n",
    "    return distinct n.in_medical_insurance as in_medical_insurance, n.insurance_level as insurance_level\n",
    "    \"\"\".format(chem_name=chemical_name)\n",
    "    result = n_util.run_cypher(query_template)\n",
    "    is_insurance = [x[\"in_medical_insurance\"] for x in result]\n",
    "    level = [x[\"insurance_level\"] for x in result]\n",
    "\n",
    "    insurance_flag = False\n",
    "    insurance_level = \"\"\n",
    "\n",
    "    if \"是\" in is_insurance:\n",
    "        insurance_flag = True\n",
    "        insurance_level = \",\".join(set(filter(lambda x: x != \"\", level)))\n",
    "        \n",
    "    return [fda_warning_flag, warning_link, insurance_flag, insurance_level]"
   ]
  },
  {
   "cell_type": "code",
   "execution_count": 48,
   "id": "4b2e4b75",
   "metadata": {},
   "outputs": [],
   "source": [
    "def get_atc_info(chemical_name):\n",
    "    # ATC code\n",
    "    query_template = \"\"\"\n",
    "    match (m:chemical {{chemical_name: \"{chem_name}\"}})\n",
    "    return m.atc_code as atc_code, m.L1_info as L1_info, m.L1_info_chn as L1_info_chn,\n",
    "    m.L2_info as L2_info, m.L2_info_chn as L2_info_chn,\n",
    "    m.L3_info as L3_info, m.L3_info_chn as L3_info_chn,\n",
    "    m.L4_info as L4_info, m.L4_info_chn as L4_info_chn\n",
    "    \"\"\".format(chem_name=chemical_name)\n",
    "    result = n_util.run_cypher(query_template)\n",
    "    \n",
    "    if len(result) == 0:\n",
    "        return [\"\"] * 9\n",
    "    \n",
    "    result = result[0]\n",
    "    return [result['atc_code'], result['L1_info'], result['L1_info_chn'], result['L2_info'], result['L2_info_chn'],\n",
    "            result['L3_info'], result['L3_info_chn'], result['L4_info'], result['L4_info_chn']]\n"
   ]
  },
  {
   "cell_type": "code",
   "execution_count": null,
   "id": "9e9154fc",
   "metadata": {},
   "outputs": [],
   "source": []
  },
  {
   "cell_type": "code",
   "execution_count": 79,
   "id": "18dedcab",
   "metadata": {},
   "outputs": [],
   "source": [
    "cn_drug_label_list = []\n",
    "drug_label_gene_list = []\n",
    "fda_warning_flag_list = []\n",
    "insurance_flag_list = []\n",
    "insurance_level_list = []\n",
    "atc_code_list = []\n",
    "L1_info_list = []\n",
    "L1_info_chn_list = []\n",
    "L2_info_list = []\n",
    "L2_info_chn_list = []\n",
    "L3_info_list = []\n",
    "L3_info_chn_list = []\n",
    "L4_info_list = []\n",
    "L4_info_chn_list = []\n",
    "toxicity_flag_list = []\n",
    "efficacy_flag_list = []\n",
    "dosage_flag_list = []\n",
    "metabolism_flag_list = []\n",
    "fda_warning_link_list = []\n",
    "\n",
    "for index, row in df_drug.iterrows():\n",
    "    chemical_name = row[\"chemical_name\"]\n",
    "    [toxicity_flag, efficacy_flag, dosage_flag, metabolism_flag] = get_pc_label(chemical_name)\n",
    "    [cn_drug_label, genes] = get_cn_drug_label(chemical_name)\n",
    "    [fda_warning_flag, fda_warning_link, insurance_flag, insurance_level] = fda_warning_insurance_label(chemical_name)\n",
    "    [atc_code, L1_info, L1_info_chn, L2_info, L2_info_chn, L3_info, L3_info_chn, L4_info, L4_info_chn] = get_atc_info(chemical_name)\n",
    "    \n",
    "    cn_drug_label_list.append(cn_drug_label)\n",
    "    drug_label_gene_list.append(genes)\n",
    "    fda_warning_flag_list.append(fda_warning_flag)\n",
    "    insurance_flag_list.append(insurance_flag)\n",
    "    insurance_level_list.append(insurance_level)\n",
    "    atc_code_list.append(atc_code)\n",
    "    L1_info_list.append(L1_info)\n",
    "    L1_info_chn_list.append(L1_info_chn)\n",
    "    L2_info_list.append(L2_info)\n",
    "    L2_info_chn_list.append(L2_info_chn)\n",
    "    L3_info_list.append(L3_info)\n",
    "    L3_info_chn_list.append(L3_info_chn)\n",
    "    L4_info_list.append(L4_info)\n",
    "    L4_info_chn_list.append(L4_info_chn)\n",
    "    toxicity_flag_list.append(toxicity_flag)\n",
    "    efficacy_flag_list.append(efficacy_flag)\n",
    "    dosage_flag_list.append(dosage_flag)\n",
    "    metabolism_flag_list.append(metabolism_flag)\n",
    "    fda_warning_link_list.append(fda_warning_link)"
   ]
  },
  {
   "cell_type": "code",
   "execution_count": 80,
   "id": "7f5daf10",
   "metadata": {},
   "outputs": [],
   "source": [
    "df_label = pd.DataFrame({\n",
    "    \"中国药物标签\": cn_drug_label_list,\n",
    "    \"中国药物基因影响\": drug_label_gene_list,\n",
    "    \"FDA预警标签\": fda_warning_flag_list,\n",
    "    \"FDA预警链接\": fda_warning_link_list,\n",
    "    \"医保标签\": insurance_flag_list,\n",
    "    \"医保级别\": insurance_level_list,\n",
    "    \"ATC代码\": atc_code_list,\n",
    "    \"ATC level 1\": L1_info_list,\n",
    "    \"ATC level 1 中文\": L1_info_chn_list,\n",
    "    \"ATC level 2\": L2_info_list,\n",
    "    \"ATC level 2 中文\": L2_info_chn_list,\n",
    "    \"ATC level 3\": L3_info_list,\n",
    "    \"ATC level 3 中文\": L3_info_chn_list,\n",
    "    \"ATC level 4\": L4_info_list,\n",
    "    \"ATC level 4 中文\": L4_info_chn_list,\n",
    "}).fillna(\"\")"
   ]
  },
  {
   "cell_type": "code",
   "execution_count": 81,
   "id": "adbf8527",
   "metadata": {},
   "outputs": [],
   "source": [
    "pd.concat([df_drug, df_label], axis=1).to_csv(\"drug_report/report_label.csv\", index=False)"
   ]
  },
  {
   "cell_type": "code",
   "execution_count": null,
   "id": "33e46a50",
   "metadata": {},
   "outputs": [],
   "source": []
  },
  {
   "cell_type": "code",
   "execution_count": 5,
   "id": "0dc9271d",
   "metadata": {},
   "outputs": [],
   "source": [
    "for index, row in pd.read_csv(\"processed/drug_chemical.csv\", encoding=\"utf-8\", dtype=str).fillna(\"\").iterrows():\n",
    "    cn_name = row[\"cn_chemical_name\"].strip()\n",
    "    drug_name = row[\"chn_name\"].strip()\n",
    "    en_name = row[\"chemical\"].lower()\n",
    "    en_drug_name = row[\"eng_name\"].lower()\n",
    "    \n",
    "    if cn_name not in drug_name and en_name not in en_drug_name:\n",
    "        print(\"{} -- {}\".format(cn_name, drug_name))"
   ]
  },
  {
   "cell_type": "code",
   "execution_count": 15,
   "id": "3282f92b",
   "metadata": {
    "scrolled": true
   },
   "outputs": [],
   "source": [
    "import json\n",
    "with open(\"c:/Users/zhangke1/Downloads/records.json\", \"r\", encoding=\"utf-8\") as f:\n",
    "    content = f.read()"
   ]
  },
  {
   "cell_type": "code",
   "execution_count": 18,
   "id": "273af0ee",
   "metadata": {},
   "outputs": [],
   "source": [
    "df_pharmacology = pd.read_csv(\"c:/Users/zhangke1/Downloads/export.csv\")"
   ]
  },
  {
   "cell_type": "code",
   "execution_count": 19,
   "id": "5558ccf5",
   "metadata": {},
   "outputs": [
    {
     "data": {
      "text/html": [
       "<div>\n",
       "<style scoped>\n",
       "    .dataframe tbody tr th:only-of-type {\n",
       "        vertical-align: middle;\n",
       "    }\n",
       "\n",
       "    .dataframe tbody tr th {\n",
       "        vertical-align: top;\n",
       "    }\n",
       "\n",
       "    .dataframe thead th {\n",
       "        text-align: right;\n",
       "    }\n",
       "</style>\n",
       "<table border=\"1\" class=\"dataframe\">\n",
       "  <thead>\n",
       "    <tr style=\"text-align: right;\">\n",
       "      <th></th>\n",
       "      <th>drug_name</th>\n",
       "      <th>pharmacology_toxicology</th>\n",
       "    </tr>\n",
       "  </thead>\n",
       "  <tbody>\n",
       "    <tr>\n",
       "      <th>0</th>\n",
       "      <td>琥乙红霉素片</td>\n",
       "      <td>本品属大环内酯类抗生素，为红霉素的琥珀酸乙酯，在胃酸中较红霉素稳定。对葡萄球菌属(耐甲氧西林...</td>\n",
       "    </tr>\n",
       "    <tr>\n",
       "      <th>1</th>\n",
       "      <td>琥乙红霉素颗粒</td>\n",
       "      <td>本品属大环内酯类抗生素，为红霉素的琥珀酸乙酯，在胃酸中较红霉素稳定。对葡萄球菌属(耐甲氧西林...</td>\n",
       "    </tr>\n",
       "    <tr>\n",
       "      <th>2</th>\n",
       "      <td>红霉素肠溶片</td>\n",
       "      <td>本品属大环内酯类抗生素。对葡萄球菌属(耐甲氧西林菌株除外)、各组链球菌和革兰阳性杆菌均具抗菌...</td>\n",
       "    </tr>\n",
       "    <tr>\n",
       "      <th>3</th>\n",
       "      <td>布美他尼片</td>\n",
       "      <td>对水和电解质排泄的作用基本同呋塞米，其利尿作用为呋塞米20～60倍。主要抑制肾小管髓袢升支厚...</td>\n",
       "    </tr>\n",
       "    <tr>\n",
       "      <th>4</th>\n",
       "      <td>注射用布美他尼</td>\n",
       "      <td>对水和电解质的排泄作用基本同呋塞米，其利尿作用为呋塞米的20～60倍。主要抑制肾小管髓袢升支...</td>\n",
       "    </tr>\n",
       "    <tr>\n",
       "      <th>...</th>\n",
       "      <td>...</td>\n",
       "      <td>...</td>\n",
       "    </tr>\n",
       "    <tr>\n",
       "      <th>5227</th>\n",
       "      <td>左羟丙哌嗪胶囊</td>\n",
       "      <td>1.左羟丙哌嗪的镇咳作用；研究了左羟丙哌嗪对麻醉豚鼠和家兔的镇咳作用，结果表明左羟丙哌嗪具有...</td>\n",
       "    </tr>\n",
       "    <tr>\n",
       "      <th>5228</th>\n",
       "      <td>左旋卡尼汀注射液</td>\n",
       "      <td>左旋卡尼汀是哺乳动物能量代谢中必需的体内天然物质，其主要功能是促进脂类代谢。在缺血、缺氧时，...</td>\n",
       "    </tr>\n",
       "    <tr>\n",
       "      <th>5229</th>\n",
       "      <td>左炔诺孕酮聚己内酯棒</td>\n",
       "      <td>全合成的孕激素。具有较强抑制垂体分泌促性腺激素的作用而抑制排卵；它能使宫黏粘液变稠，阻碍精子...</td>\n",
       "    </tr>\n",
       "    <tr>\n",
       "      <th>5230</th>\n",
       "      <td>左旋卡尼汀口服溶液</td>\n",
       "      <td>左旋卡尼汀是哺乳动物能量代谢中必需的体内天然物质，其主要功能是促进脂类代谢。在缺血、缺氧时，...</td>\n",
       "    </tr>\n",
       "    <tr>\n",
       "      <th>5231</th>\n",
       "      <td>左旋炔诺孕酮硅胶棒</td>\n",
       "      <td>全合成孕激素。具有较强抑制垂体分泌促性腺激素的作用而抑制排卵，它能使宫颈粘液变稠，阻碍精子穿...</td>\n",
       "    </tr>\n",
       "  </tbody>\n",
       "</table>\n",
       "<p>5232 rows × 2 columns</p>\n",
       "</div>"
      ],
      "text/plain": [
       "       drug_name                            pharmacology_toxicology\n",
       "0         琥乙红霉素片  本品属大环内酯类抗生素，为红霉素的琥珀酸乙酯，在胃酸中较红霉素稳定。对葡萄球菌属(耐甲氧西林...\n",
       "1        琥乙红霉素颗粒  本品属大环内酯类抗生素，为红霉素的琥珀酸乙酯，在胃酸中较红霉素稳定。对葡萄球菌属(耐甲氧西林...\n",
       "2         红霉素肠溶片  本品属大环内酯类抗生素。对葡萄球菌属(耐甲氧西林菌株除外)、各组链球菌和革兰阳性杆菌均具抗菌...\n",
       "3          布美他尼片  对水和电解质排泄的作用基本同呋塞米，其利尿作用为呋塞米20～60倍。主要抑制肾小管髓袢升支厚...\n",
       "4        注射用布美他尼  对水和电解质的排泄作用基本同呋塞米，其利尿作用为呋塞米的20～60倍。主要抑制肾小管髓袢升支...\n",
       "...          ...                                                ...\n",
       "5227     左羟丙哌嗪胶囊  1.左羟丙哌嗪的镇咳作用；研究了左羟丙哌嗪对麻醉豚鼠和家兔的镇咳作用，结果表明左羟丙哌嗪具有...\n",
       "5228    左旋卡尼汀注射液  左旋卡尼汀是哺乳动物能量代谢中必需的体内天然物质，其主要功能是促进脂类代谢。在缺血、缺氧时，...\n",
       "5229  左炔诺孕酮聚己内酯棒  全合成的孕激素。具有较强抑制垂体分泌促性腺激素的作用而抑制排卵；它能使宫黏粘液变稠，阻碍精子...\n",
       "5230   左旋卡尼汀口服溶液  左旋卡尼汀是哺乳动物能量代谢中必需的体内天然物质，其主要功能是促进脂类代谢。在缺血、缺氧时，...\n",
       "5231   左旋炔诺孕酮硅胶棒  全合成孕激素。具有较强抑制垂体分泌促性腺激素的作用而抑制排卵，它能使宫颈粘液变稠，阻碍精子穿...\n",
       "\n",
       "[5232 rows x 2 columns]"
      ]
     },
     "execution_count": 19,
     "metadata": {},
     "output_type": "execute_result"
    }
   ],
   "source": [
    "df_pharmacology"
   ]
  },
  {
   "cell_type": "code",
   "execution_count": 27,
   "id": "ba591e4a",
   "metadata": {},
   "outputs": [],
   "source": [
    "sent_list = []\n",
    "for index,row in df_pharmacology.iterrows():\n",
    "    sent = row[\"pharmacology_toxicology\"].split(\"。\")[:5]\n",
    "    available_sent_list = []\n",
    "    for s in sent:\n",
    "        if any([True if x in s else False for x in [\"抑制\", \"阻断\", \"具\", \"作用\", \n",
    "                                                    \"有效\", \"减少\", \"降低\", \"增加\", \"促进\"]]) and \"毒理\" not in s:\n",
    "            available_sent_list.append(s)\n",
    "            \n",
    "    sent_list.append(\"。\".join(available_sent_list))\n",
    "\n",
    "df_pharmacology[\"sent\"] = sent_list"
   ]
  },
  {
   "cell_type": "code",
   "execution_count": 29,
   "id": "3427ea9e",
   "metadata": {},
   "outputs": [],
   "source": [
    "df_pharmacology.to_csv(\"c:/Users/zhangke1/Desktop/药理.csv\", index=False)"
   ]
  },
  {
   "cell_type": "code",
   "execution_count": null,
   "id": "2a7a7787",
   "metadata": {},
   "outputs": [],
   "source": []
  },
  {
   "cell_type": "code",
   "execution_count": null,
   "id": "2a341abe",
   "metadata": {},
   "outputs": [],
   "source": []
  },
  {
   "cell_type": "code",
   "execution_count": null,
   "id": "af6fab33",
   "metadata": {},
   "outputs": [],
   "source": []
  }
 ],
 "metadata": {
  "kernelspec": {
   "display_name": "Python 3",
   "language": "python",
   "name": "python3"
  },
  "language_info": {
   "codemirror_mode": {
    "name": "ipython",
    "version": 3
   },
   "file_extension": ".py",
   "mimetype": "text/x-python",
   "name": "python",
   "nbconvert_exporter": "python",
   "pygments_lexer": "ipython3",
   "version": "3.6.13"
  }
 },
 "nbformat": 4,
 "nbformat_minor": 5
}
