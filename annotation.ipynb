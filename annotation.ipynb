{
 "cells": [
  {
   "cell_type": "code",
   "execution_count": 26,
   "id": "362c29b3",
   "metadata": {},
   "outputs": [],
   "source": [
    "import pandas as pd\n",
    "import re"
   ]
  },
  {
   "cell_type": "markdown",
   "id": "ce620800",
   "metadata": {},
   "source": [
    "## 生成药物相互关系数据"
   ]
  },
  {
   "cell_type": "code",
   "execution_count": 99,
   "id": "b47b2864",
   "metadata": {},
   "outputs": [],
   "source": [
    "df_drug_interaction = pd.read_csv(\"processed/chemical_component_translation.csv\").fillna(\"\")\n",
    "df_drug_interaction = df_drug_interaction[(df_drug_interaction[\"drug_interaction\"] != \"\") & (df_drug_interaction[\"cn_chemical_name\"] != \"\")]\n",
    "df_drug_interaction = df_drug_interaction[[\"drug_name\", \"chemical_name\", \"cn_chemical_name\", \"drug_interaction\"]].drop_duplicates() # .to_csv(\"processed/label_dataset.txt\", sep=\"\\t\", index=False, header=False)"
   ]
  },
  {
   "cell_type": "code",
   "execution_count": 72,
   "id": "2d317a44",
   "metadata": {},
   "outputs": [],
   "source": [
    "df_di = df_drug_interaction.groupby([\"cn_chemical_name\", \"chemical_name\"])[\"drug_interaction\"].apply(lambda x: \"\\r\\n\".join(x)).reset_index()"
   ]
  },
  {
   "cell_type": "code",
   "execution_count": 73,
   "id": "e494a22e",
   "metadata": {},
   "outputs": [],
   "source": [
    "chemical_list = []\n",
    "cn_chemical_list = []\n",
    "interaction_list = []\n",
    "for index, row in df_di.iterrows():\n",
    "    interact_list = list(set(filter(lambda x: x.strip() != \"\", \n",
    "               map(lambda x: re.sub(\"([\\d]+.|\\(|\\)|（|）|·|\\.|【|】|●|[\\u2460-\\u2499]+)\", \"\", \n",
    "                                    re.sub(\"[，|、|：|﹑]\", \",\", re.sub(\"[”|“]\", \"\\\"\", x))).strip(),\n",
    "                   re.split(r\"[\\n|;|。|；]\", \n",
    "                            row[\"drug_interaction\"])))))\n",
    "    interact_list = [\"{}. {}。\".format(i, interact_list[i - 1]) for i in range(1, len(interact_list) + 1)]\n",
    "    \n",
    "    chemical_list.append(row[\"chemical_name\"].strip().lower())\n",
    "    cn_chemical_list.append(row[\"cn_chemical_name\"].strip())\n",
    "    interaction_list.append(\"\\n\".join(interact_list))\n",
    "\n",
    "df_di = pd.DataFrame({\"chemical\": chemical_list, \"cn_chemical\": cn_chemical_list, \"interaction\": interaction_list})"
   ]
  },
  {
   "cell_type": "code",
   "execution_count": 74,
   "id": "9bfdb8fe",
   "metadata": {},
   "outputs": [],
   "source": [
    "df_dd = df_drug_interaction.groupby([\"cn_chemical_name\", \"chemical_name\"])[\"drug_name\"].apply(lambda x: \"\\r\\n\".join(x)).reset_index()\n",
    "df_dd[\"chemical_name\"] = df_dd[\"chemical_name\"].str.lower()"
   ]
  },
  {
   "cell_type": "code",
   "execution_count": 75,
   "id": "141a273e",
   "metadata": {},
   "outputs": [],
   "source": [
    "df_join = pd.merge(df_dd, df_di, how=\"left\", left_on=[\"chemical_name\"], right_on=[\"chemical\"])\n",
    "df_join = df_join[[\"chemical\", \"cn_chemical\", \"drug_name\", \"interaction\"]]\n",
    "df_join.to_csv(\"processed/interaction_data.csv\", index=False)"
   ]
  },
  {
   "cell_type": "markdown",
   "id": "aaff6eb1",
   "metadata": {},
   "source": [
    "## 通过化合物中文翻译匹配新的药物化合物关系"
   ]
  },
  {
   "cell_type": "code",
   "execution_count": 126,
   "id": "b4289ecf",
   "metadata": {},
   "outputs": [],
   "source": [
    "df_translation = pd.read_csv(\"processed/chemical_translation.csv\", dtype=str).fillna(\"\")\n",
    "df_all_drug = pd.read_csv(\"processed/all_drug.csv\", dtype=str).fillna(\"\")"
   ]
  },
  {
   "cell_type": "code",
   "execution_count": 127,
   "id": "6a213f28",
   "metadata": {},
   "outputs": [],
   "source": [
    "translation_dict = dict(zip(list(df_translation[\"cn_chemical_name\"].str.strip().str.lower().values), \n",
    "                            list(df_translation[\"chemical_name\"].str.strip().str.lower().values)))\n",
    "\n",
    "translation_reverse_dict = dict(zip(list(df_translation[\"chemical_name\"].str.strip().str.lower().values), \n",
    "                            list(df_translation[\"cn_chemical_name\"].str.strip().str.lower().values)))"
   ]
  },
  {
   "cell_type": "code",
   "execution_count": 128,
   "id": "78bb3fb4",
   "metadata": {},
   "outputs": [],
   "source": [
    "# filter no need chemical\n",
    "no_need_che_list = [\"calcium\", \"carbasalate calcium\", \"enzymes\", \"glucose\", \"inhalants\",\n",
    "                    \"platinum\", \"recombinant\", \"vitamin c\", \"vitamin e\", \"vitamin k\", \"vitamin k1\"]"
   ]
  },
  {
   "cell_type": "code",
   "execution_count": 129,
   "id": "222139e1",
   "metadata": {},
   "outputs": [],
   "source": [
    "match_list = []\n",
    "for index, row in df_all_drug.iterrows():\n",
    "    m_list = list(filter(lambda x: x[0], [[True, x] if x in row[\"drug_name\"] else [False, x] for x in translation_dict.keys()]))\n",
    "    if len(m_list) > 0:\n",
    "        for m in m_list:\n",
    "            match_list.append([m[1], translation_dict[m[1]], row[\"drug_name\"]])"
   ]
  },
  {
   "cell_type": "code",
   "execution_count": 130,
   "id": "376e080b",
   "metadata": {},
   "outputs": [],
   "source": [
    "B_set = set([\"{}:{}\".format(x[1].strip().lower(), x[2].strip().lower()) for x in match_list])"
   ]
  },
  {
   "cell_type": "code",
   "execution_count": 131,
   "id": "21a82823",
   "metadata": {},
   "outputs": [],
   "source": [
    "df_drug_interaction = pd.read_csv(\"processed/chemical_component_translation.csv\").fillna(\"\")\n",
    "A_set = set(map(lambda x: \"{}:{}\".format(x[0].strip().lower(), x[1].strip().lower()),\n",
    "    list(zip(df_drug_interaction[\"chemical_name\"].values, df_drug_interaction[\"drug_name\"].values))))"
   ]
  },
  {
   "cell_type": "code",
   "execution_count": 132,
   "id": "585e8480",
   "metadata": {},
   "outputs": [],
   "source": [
    "pd.DataFrame(list(filter(lambda x: x[0] not in no_need_che_list, [[x.split(\":\")[0], \n",
    " translation_reverse_dict[x.split(\":\")[0]], x.split(\":\")[1]]\n",
    " for x in B_set - A_set.intersection(B_set)])), columns=[\"chemical\", \n",
    " \"cn_chemical\", \"drug\"]).to_csv(\"processed/new_match_drug_chemical.csv\", index=False)"
   ]
  },
  {
   "cell_type": "code",
   "execution_count": 133,
   "id": "1bfa20a6",
   "metadata": {},
   "outputs": [
    {
     "data": {
      "text/plain": [
       "2856"
      ]
     },
     "execution_count": 133,
     "metadata": {},
     "output_type": "execute_result"
    }
   ],
   "source": [
    "len(A_set)"
   ]
  },
  {
   "cell_type": "code",
   "execution_count": null,
   "id": "cb6f0960",
   "metadata": {},
   "outputs": [],
   "source": []
  }
 ],
 "metadata": {
  "kernelspec": {
   "display_name": "Python 3",
   "language": "python",
   "name": "python3"
  },
  "language_info": {
   "codemirror_mode": {
    "name": "ipython",
    "version": 3
   },
   "file_extension": ".py",
   "mimetype": "text/x-python",
   "name": "python",
   "nbconvert_exporter": "python",
   "pygments_lexer": "ipython3",
   "version": "3.6.13"
  }
 },
 "nbformat": 4,
 "nbformat_minor": 5
}
