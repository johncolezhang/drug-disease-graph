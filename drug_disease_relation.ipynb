{
 "cells": [
  {
   "cell_type": "code",
   "execution_count": 31,
   "id": "ff07cad2",
   "metadata": {},
   "outputs": [],
   "source": [
    "import pandas as pd\n",
    "import json\n",
    "import os\n",
    "from fnmatch import fnmatch\n",
    "import Levenshtein"
   ]
  },
  {
   "cell_type": "code",
   "execution_count": 5,
   "id": "48c9a68a",
   "metadata": {},
   "outputs": [
    {
     "data": {
      "text/plain": [
       "'D:\\\\disease-kb'"
      ]
     },
     "execution_count": 5,
     "metadata": {},
     "output_type": "execute_result"
    }
   ],
   "source": [
    "os.getcwd()"
   ]
  },
  {
   "cell_type": "code",
   "execution_count": 60,
   "id": "11ae16b1",
   "metadata": {},
   "outputs": [],
   "source": [
    "# read drug description\n",
    "dd_columns = [\"药品名称\", \"成份\", \"性状\", \"适应症\", \"用法用量\", \"不良反应\", \"禁忌\", \"注意事项\",\n",
    "                  \"孕妇及哺乳期妇女用药\", \"儿童用药\", \"老年用药\", \"贮藏\", \"规格\", \"药物相互作用\",\n",
    "                  \"药理毒理\", \"药代动力学\", \"药物过量\", \"有效期\", \"包装\", \"执行标准\"]\n",
    "df_drug_description = pd.DataFrame(columns=dd_columns)\n",
    "for fn in os.listdir(\"d:/pgkb_graph/processed\"):\n",
    "    if fnmatch(fn, \"*drug_description_detail_*.csv\"):\n",
    "        df_drug_description = pd.concat(\n",
    "            [df_drug_description,\n",
    "             pd.read_csv(os.path.join(\"d:/pgkb_graph/processed\", fn), dtype=str).fillna(\"\")],\n",
    "             ignore_index=True,\n",
    "             axis=0)\n",
    "df_drug_description = df_drug_description.fillna(\"\")"
   ]
  },
  {
   "cell_type": "code",
   "execution_count": 62,
   "id": "bb177ec6",
   "metadata": {
    "scrolled": true
   },
   "outputs": [
    {
     "data": {
      "text/plain": [
       "12761"
      ]
     },
     "execution_count": 62,
     "metadata": {},
     "output_type": "execute_result"
    }
   ],
   "source": [
    "len(df_drug_description)"
   ]
  },
  {
   "cell_type": "code",
   "execution_count": 26,
   "id": "a8b101ed",
   "metadata": {},
   "outputs": [
    {
     "data": {
      "text/plain": [
       "8808"
      ]
     },
     "execution_count": 26,
     "metadata": {},
     "output_type": "execute_result"
    }
   ],
   "source": [
    "# read disease details\n",
    "disease_list = []\n",
    "with open(\"data/medical.json\", \"r\", encoding=\"utf-8\") as f:\n",
    "    for line in f.read().split(\"\\n\"):\n",
    "        try:\n",
    "            line_json = json.loads(line, strict=False)\n",
    "            disease_list.append(line_json)\n",
    "        except:\n",
    "            pass\n",
    "        \n",
    "len(disease_list)"
   ]
  },
  {
   "cell_type": "code",
   "execution_count": 27,
   "id": "73fd9a25",
   "metadata": {},
   "outputs": [],
   "source": [
    "# read ICD code\n",
    "df_icd = pd.read_csv(\"ICD10_filter.csv\")\n",
    "icd_name_dict = dict(zip(list(df_icd[\"disease\"].values),\n",
    "                         list(df_icd[\"code\"].values)))"
   ]
  },
  {
   "cell_type": "code",
   "execution_count": 28,
   "id": "5c1c7e1c",
   "metadata": {},
   "outputs": [],
   "source": [
    "no_match_list = []\n",
    "for disease in disease_list:\n",
    "    if disease[\"name\"] in icd_name_dict.keys():\n",
    "        disease[\"ICD10_code\"] = icd_name_dict[disease[\"name\"]]\n",
    "    else:\n",
    "        no_match_list.append(disease[\"name\"])\n",
    "        disease[\"ICD10_code\"] = \"\""
   ]
  },
  {
   "cell_type": "code",
   "execution_count": 29,
   "id": "4ba42738",
   "metadata": {},
   "outputs": [
    {
     "data": {
      "text/plain": [
       "6585"
      ]
     },
     "execution_count": 29,
     "metadata": {},
     "output_type": "execute_result"
    }
   ],
   "source": [
    "len(no_match_list)"
   ]
  },
  {
   "cell_type": "code",
   "execution_count": 38,
   "id": "4147e43d",
   "metadata": {},
   "outputs": [],
   "source": [
    "# 最短编辑比率\n",
    "max_match_list= []\n",
    "for no_match in no_match_list:\n",
    "    max_ratio = 0\n",
    "    max_disease = \"\"\n",
    "    for disease in icd_name_dict.keys():\n",
    "        if Levenshtein.ratio(no_match, disease) > max_ratio:\n",
    "            max_ratio = Levenshtein.ratio(no_match, disease)\n",
    "            max_disease = disease\n",
    "    max_match_list.append((no_match, max_disease, max_ratio))\n"
   ]
  },
  {
   "cell_type": "code",
   "execution_count": 50,
   "id": "16c284d9",
   "metadata": {},
   "outputs": [
    {
     "name": "stdout",
     "output_type": "stream",
     "text": [
      "632\n"
     ]
    }
   ],
   "source": [
    "# 过滤最短编辑比率大于0.88的字符串组\n",
    "filter_match_list = list(filter(lambda x: x[2] >= 0.88, max_match_list))\n",
    "print(len(filter_match_list))\n",
    "match_dict = dict(list(map(lambda x: (x[0], x[1]), filter_match_list)))"
   ]
  },
  {
   "cell_type": "code",
   "execution_count": 52,
   "id": "4624d847",
   "metadata": {},
   "outputs": [],
   "source": [
    "for disease in disease_list:\n",
    "    if disease[\"name\"] in match_dict.keys():\n",
    "        disease[\"ICD10_code\"] = icd_name_dict[match_dict[disease[\"name\"]]]"
   ]
  },
  {
   "cell_type": "code",
   "execution_count": 55,
   "id": "8556786e",
   "metadata": {},
   "outputs": [
    {
     "data": {
      "text/plain": [
       "8808"
      ]
     },
     "execution_count": 55,
     "metadata": {},
     "output_type": "execute_result"
    }
   ],
   "source": [
    "len(disease_list)"
   ]
  },
  {
   "cell_type": "code",
   "execution_count": 69,
   "id": "ef1d543c",
   "metadata": {},
   "outputs": [],
   "source": [
    "disease_drug_list = []\n",
    "disease_symptom_list = []\n",
    "for disease in disease_list:\n",
    "    for drug in disease[\"recommand_drug\"]:\n",
    "        disease_drug_list.append([disease[\"name\"], drug])\n",
    "    for symptom in disease[\"symptom\"]:\n",
    "        disease_symptom_list.append([disease[\"name\"], symptom])"
   ]
  },
  {
   "cell_type": "code",
   "execution_count": 68,
   "id": "d99a18b0",
   "metadata": {},
   "outputs": [
    {
     "name": "stdout",
     "output_type": "stream",
     "text": [
      "59467\n",
      "[['百日咳', '琥乙红霉素片'], ['百日咳', '琥乙红霉素颗粒'], ['百日咳', '百咳静糖浆'], ['百日咳', '穿心莲内酯片'], ['百日咳', '红霉素肠溶片'], ['百日咳', '环酯红霉素片'], ['苯中毒', '布美他尼片'], ['苯中毒', '十一味金色丸'], ['苯中毒', '注射用布美他尼'], ['苯中毒', '注射用呋塞米']]\n"
     ]
    }
   ],
   "source": [
    "print(len(disease_drug_list))\n",
    "print(disease_drug_list[:10])"
   ]
  },
  {
   "cell_type": "code",
   "execution_count": 70,
   "id": "5e0a76ce",
   "metadata": {},
   "outputs": [
    {
     "name": "stdout",
     "output_type": "stream",
     "text": [
      "54710\n",
      "[['肺泡蛋白质沉积症', '紫绀'], ['肺泡蛋白质沉积症', '胸痛'], ['肺泡蛋白质沉积症', '呼吸困难'], ['肺泡蛋白质沉积症', '乏力'], ['肺泡蛋白质沉积症', '毓卓'], ['百日咳', '吸气时有蝉鸣音'], ['百日咳', '痉挛性咳嗽'], ['百日咳', '胸闷'], ['百日咳', '肺阴虚'], ['百日咳', '抽搐']]\n"
     ]
    }
   ],
   "source": [
    "print(len(disease_symptom_list))\n",
    "print(disease_symptom_list[:10])"
   ]
  },
  {
   "cell_type": "code",
   "execution_count": 71,
   "id": "28d5215a",
   "metadata": {},
   "outputs": [],
   "source": [
    "drug_dict = {}\n",
    "for index, row in df_drug_description.iterrows():\n",
    "    drug_name = row[\"药品名称\"]\n",
    "    drug_dict[drug_name] = {}\n",
    "    for col in dd_columns:\n",
    "        drug_dict[drug_name][col] = row[col]"
   ]
  },
  {
   "cell_type": "code",
   "execution_count": 77,
   "id": "6f926315",
   "metadata": {},
   "outputs": [],
   "source": [
    "disease_dict = {}\n",
    "for disease in disease_list:\n",
    "    disease_dict[disease[\"name\"]] = {}\n",
    "    for key in disease.keys():\n",
    "        if key in [\"_id\", \"do_eat\", \"not_eat\", \"recommand_eat\", \"drug_detail\"]:\n",
    "            continue\n",
    "        disease_dict[disease[\"name\"]][key] = disease[key]"
   ]
  },
  {
   "cell_type": "code",
   "execution_count": null,
   "id": "795a4073",
   "metadata": {},
   "outputs": [],
   "source": []
  },
  {
   "cell_type": "code",
   "execution_count": null,
   "id": "50522bdf",
   "metadata": {},
   "outputs": [],
   "source": []
  }
 ],
 "metadata": {
  "kernelspec": {
   "display_name": "Python 3",
   "language": "python",
   "name": "python3"
  },
  "language_info": {
   "codemirror_mode": {
    "name": "ipython",
    "version": 3
   },
   "file_extension": ".py",
   "mimetype": "text/x-python",
   "name": "python",
   "nbconvert_exporter": "python",
   "pygments_lexer": "ipython3",
   "version": "3.6.13"
  }
 },
 "nbformat": 4,
 "nbformat_minor": 5
}
