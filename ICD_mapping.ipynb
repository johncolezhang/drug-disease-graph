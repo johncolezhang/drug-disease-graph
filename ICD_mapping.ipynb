{
 "cells": [
  {
   "cell_type": "code",
   "execution_count": 17,
   "id": "0f776dac",
   "metadata": {},
   "outputs": [],
   "source": [
    "import pandas as pd\n",
    "import re\n",
    "import json"
   ]
  },
  {
   "cell_type": "code",
   "execution_count": 55,
   "id": "c3880cfc",
   "metadata": {},
   "outputs": [],
   "source": [
    "df_icd = pd.read_csv(\"ICD10.csv\", sep=\"\\t\", header=0, names=[\"code\", \"disease\"])\n",
    "\n",
    "df_icd = df_icd[df_icd.code.str.match(\"^[A-Z]\")]\n",
    "df_icd = df_icd[df_icd.code.str.match(\"\\w+(\\.| )\")]"
   ]
  },
  {
   "cell_type": "code",
   "execution_count": 56,
   "id": "e0829bf4",
   "metadata": {},
   "outputs": [],
   "source": [
    "df_icd = df_icd.sort_values(by=\"code\")\n",
    "df_icd.index = range(len(df_icd))"
   ]
  },
  {
   "cell_type": "code",
   "execution_count": 57,
   "id": "71fd3be3",
   "metadata": {},
   "outputs": [],
   "source": [
    "df_icd.drop_duplicates().to_csv(\"ICD10_filter.csv\", index=False)"
   ]
  },
  {
   "cell_type": "code",
   "execution_count": null,
   "id": "744e00ed",
   "metadata": {
    "scrolled": true
   },
   "outputs": [],
   "source": []
  },
  {
   "cell_type": "code",
   "execution_count": 32,
   "id": "0b6f82cf",
   "metadata": {},
   "outputs": [],
   "source": [
    "df_icd = pd.read_csv(\"c:/Users/zhangke1/Desktop/ICD-11.csv\", dtype=str).fillna(\"\")\n",
    "df_icd = df_icd[df_icd[\"有效码\"] == \"是\"]"
   ]
  },
  {
   "cell_type": "code",
   "execution_count": 33,
   "id": "52d1ec02",
   "metadata": {
    "scrolled": true
   },
   "outputs": [],
   "source": [
    "df_icd[\"code\"] = df_icd[\"章节或编码\"]\n",
    "df_icd[\"disease\"] = df_icd[\"中文名称\"]\n",
    "df_icd = df_icd[[\"code\", \"disease\"]]"
   ]
  },
  {
   "cell_type": "code",
   "execution_count": 37,
   "id": "733c86ba",
   "metadata": {},
   "outputs": [],
   "source": [
    "df_icd.index=range(len(df_icd))\n",
    "df_icd.sort_values(by=[\"code\"])\n"
   ]
  },
  {
   "cell_type": "code",
   "execution_count": 18,
   "id": "5f6785a4",
   "metadata": {},
   "outputs": [],
   "source": [
    "with open(\"d:/disease-kb/processed/disease_dict.json\", \"r\", encoding=\"utf-8\") as f:\n",
    "    disease_dict = json.load(f)"
   ]
  },
  {
   "cell_type": "code",
   "execution_count": 22,
   "id": "9dcfff5e",
   "metadata": {},
   "outputs": [
    {
     "name": "stdout",
     "output_type": "stream",
     "text": [
      "length of disease data:  8807\n"
     ]
    }
   ],
   "source": [
    "print(\"length of disease data: \", len(disease_dict.keys()))"
   ]
  },
  {
   "cell_type": "code",
   "execution_count": 35,
   "id": "59a9225f",
   "metadata": {},
   "outputs": [
    {
     "name": "stdout",
     "output_type": "stream",
     "text": [
      "disease fully match ICD 11:  723\n"
     ]
    }
   ],
   "source": [
    "print(\"disease fully match ICD 11: \", len(set(df_icd[\"disease\"].values) & set(disease_dict.keys())))"
   ]
  },
  {
   "cell_type": "code",
   "execution_count": 36,
   "id": "5ae9d076",
   "metadata": {},
   "outputs": [
    {
     "data": {
      "text/plain": [
       "3549"
      ]
     },
     "execution_count": 36,
     "metadata": {},
     "output_type": "execute_result"
    }
   ],
   "source": [
    "len(list(filter(lambda x: x, [True if disease_dict[x][\"ICD10_code\"] != \"\" else False for x in disease_dict.keys()])))"
   ]
  },
  {
   "cell_type": "code",
   "execution_count": 43,
   "id": "76e6fed9",
   "metadata": {},
   "outputs": [],
   "source": [
    "disease_list = list(df_icd[\"disease\"].values)\n",
    "\n",
    "brac_regex = re.compile(\"（[^)]*）\")\n",
    "\n",
    "def clean_up(disease):\n",
    "    disease = re.sub(brac_regex, \"\", disease)\n",
    "    disease = disease.split(\"，\")[0]\n",
    "    disease = disease.split(\"：\")[0]\n",
    "    return disease.strip()\n",
    "\n",
    "clean_disease_list = [clean_up(x) for x in disease_list]"
   ]
  },
  {
   "cell_type": "code",
   "execution_count": 44,
   "id": "543789a7",
   "metadata": {},
   "outputs": [],
   "source": [
    "df_icd[\"clean\"] = clean_disease_list"
   ]
  },
  {
   "cell_type": "code",
   "execution_count": 47,
   "id": "a3688827",
   "metadata": {},
   "outputs": [
    {
     "name": "stdout",
     "output_type": "stream",
     "text": [
      "disease fully match ICD 11:  1171\n"
     ]
    }
   ],
   "source": [
    "match_list = set(df_icd[\"clean\"].values) & set(disease_dict.keys())\n",
    "print(\"disease fully match ICD 11: \", len(match_list))"
   ]
  },
  {
   "cell_type": "code",
   "execution_count": null,
   "id": "b0cf6c40",
   "metadata": {},
   "outputs": [],
   "source": [
    "# TODO 可以尝试用最短编辑距离率来匹配疾病和ICD名。"
   ]
  },
  {
   "cell_type": "code",
   "execution_count": 45,
   "id": "a86f09ab",
   "metadata": {},
   "outputs": [],
   "source": [
    "# df_icd.to_csv(\"ICD11_filter.csv\", index=False)"
   ]
  }
 ],
 "metadata": {
  "kernelspec": {
   "display_name": "Python 3",
   "language": "python",
   "name": "python3"
  },
  "language_info": {
   "codemirror_mode": {
    "name": "ipython",
    "version": 3
   },
   "file_extension": ".py",
   "mimetype": "text/x-python",
   "name": "python",
   "nbconvert_exporter": "python",
   "pygments_lexer": "ipython3",
   "version": "3.6.13"
  }
 },
 "nbformat": 4,
 "nbformat_minor": 5
}
