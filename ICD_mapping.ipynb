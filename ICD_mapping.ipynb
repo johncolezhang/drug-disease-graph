{
 "cells": [
  {
   "cell_type": "code",
   "execution_count": 20,
   "id": "0f776dac",
   "metadata": {},
   "outputs": [],
   "source": [
    "import pandas as pd\n",
    "import re"
   ]
  },
  {
   "cell_type": "code",
   "execution_count": 55,
   "id": "c3880cfc",
   "metadata": {},
   "outputs": [],
   "source": [
    "df_icd = pd.read_csv(\"ICD10.csv\", sep=\"\\t\", header=0, names=[\"code\", \"disease\"])\n",
    "\n",
    "df_icd = df_icd[df_icd.code.str.match(\"^[A-Z]\")]\n",
    "df_icd = df_icd[df_icd.code.str.match(\"\\w+(\\.| )\")]"
   ]
  },
  {
   "cell_type": "code",
   "execution_count": 56,
   "id": "e0829bf4",
   "metadata": {},
   "outputs": [],
   "source": [
    "df_icd = df_icd.sort_values(by=\"code\")\n",
    "df_icd.index = range(len(df_icd))"
   ]
  },
  {
   "cell_type": "code",
   "execution_count": 57,
   "id": "71fd3be3",
   "metadata": {},
   "outputs": [],
   "source": [
    "df_icd.drop_duplicates().to_csv(\"ICD10_filter.csv\", index=False)"
   ]
  },
  {
   "cell_type": "code",
   "execution_count": null,
   "id": "744e00ed",
   "metadata": {
    "scrolled": true
   },
   "outputs": [],
   "source": []
  },
  {
   "cell_type": "code",
   "execution_count": null,
   "id": "0b6f82cf",
   "metadata": {},
   "outputs": [],
   "source": []
  },
  {
   "cell_type": "code",
   "execution_count": null,
   "id": "52d1ec02",
   "metadata": {},
   "outputs": [],
   "source": []
  }
 ],
 "metadata": {
  "kernelspec": {
   "display_name": "Python 3",
   "language": "python",
   "name": "python3"
  },
  "language_info": {
   "codemirror_mode": {
    "name": "ipython",
    "version": 3
   },
   "file_extension": ".py",
   "mimetype": "text/x-python",
   "name": "python",
   "nbconvert_exporter": "python",
   "pygments_lexer": "ipython3",
   "version": "3.6.13"
  }
 },
 "nbformat": 4,
 "nbformat_minor": 5
}
